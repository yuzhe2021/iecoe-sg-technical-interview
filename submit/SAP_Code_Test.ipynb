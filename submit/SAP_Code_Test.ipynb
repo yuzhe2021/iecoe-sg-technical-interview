{
 "cells": [
  {
   "cell_type": "markdown",
   "metadata": {},
   "source": [
    "## <center>SAP Code Test: Fake News Dectection</center>\n",
    "<center>Author: Yu Zhe (NUS MSBA)</center>"
   ]
  },
  {
   "cell_type": "code",
   "execution_count": 13,
   "metadata": {
    "colab": {},
    "colab_type": "code",
    "id": "oTs-rRNdHYFr"
   },
   "outputs": [
    {
     "name": "stderr",
     "output_type": "stream",
     "text": [
      "[nltk_data] Downloading package stopwords to\n",
      "[nltk_data]     C:\\Users\\yuzhe\\AppData\\Roaming\\nltk_data...\n",
      "[nltk_data]   Package stopwords is already up-to-date!\n"
     ]
    }
   ],
   "source": [
    "import re\n",
    "import pandas as pd\n",
    "import numpy as np\n",
    "from sklearn.feature_extraction.text import CountVectorizer\n",
    "from sklearn.feature_extraction.text import TfidfVectorizer\n",
    "import matplotlib.pyplot as plt\n",
    "%matplotlib inline\n",
    "import seaborn as sns\n",
    "from sklearn.model_selection import train_test_split, StratifiedKFold, cross_val_score\n",
    "from sklearn.naive_bayes import MultinomialNB\n",
    "from sklearn.linear_model import LogisticRegression\n",
    "from sklearn.metrics import accuracy_score, f1_score\n",
    "import lightgbm as lgb\n",
    "from lightgbm import LGBMClassifier\n",
    "import nltk\n",
    "nltk.download('stopwords')\n",
    "from nltk.corpus import stopwords"
   ]
  },
  {
   "cell_type": "markdown",
   "metadata": {
    "colab_type": "text",
    "id": "HY-df128HYFv"
   },
   "source": [
    "### Part 1:  Data Import and Explorative Analysis (EDA)"
   ]
  },
  {
   "cell_type": "code",
   "execution_count": 2,
   "metadata": {
    "colab": {},
    "colab_type": "code",
    "id": "EoMFdzpcHYFx"
   },
   "outputs": [],
   "source": [
    "df_fake=pd.read_csv('Fake.csv')\n",
    "df_true=pd.read_csv('True.csv')"
   ]
  },
  {
   "cell_type": "code",
   "execution_count": 3,
   "metadata": {
    "scrolled": true
   },
   "outputs": [
    {
     "data": {
      "text/html": [
       "<div>\n",
       "<style scoped>\n",
       "    .dataframe tbody tr th:only-of-type {\n",
       "        vertical-align: middle;\n",
       "    }\n",
       "\n",
       "    .dataframe tbody tr th {\n",
       "        vertical-align: top;\n",
       "    }\n",
       "\n",
       "    .dataframe thead th {\n",
       "        text-align: right;\n",
       "    }\n",
       "</style>\n",
       "<table border=\"1\" class=\"dataframe\">\n",
       "  <thead>\n",
       "    <tr style=\"text-align: right;\">\n",
       "      <th></th>\n",
       "      <th>title</th>\n",
       "      <th>text</th>\n",
       "      <th>subject</th>\n",
       "      <th>date</th>\n",
       "    </tr>\n",
       "  </thead>\n",
       "  <tbody>\n",
       "    <tr>\n",
       "      <th>0</th>\n",
       "      <td>As U.S. budget fight looms, Republicans flip t...</td>\n",
       "      <td>WASHINGTON (Reuters) - The head of a conservat...</td>\n",
       "      <td>politicsNews</td>\n",
       "      <td>December 31, 2017</td>\n",
       "    </tr>\n",
       "    <tr>\n",
       "      <th>1</th>\n",
       "      <td>U.S. military to accept transgender recruits o...</td>\n",
       "      <td>WASHINGTON (Reuters) - Transgender people will...</td>\n",
       "      <td>politicsNews</td>\n",
       "      <td>December 29, 2017</td>\n",
       "    </tr>\n",
       "  </tbody>\n",
       "</table>\n",
       "</div>"
      ],
      "text/plain": [
       "                                               title  \\\n",
       "0  As U.S. budget fight looms, Republicans flip t...   \n",
       "1  U.S. military to accept transgender recruits o...   \n",
       "\n",
       "                                                text       subject  \\\n",
       "0  WASHINGTON (Reuters) - The head of a conservat...  politicsNews   \n",
       "1  WASHINGTON (Reuters) - Transgender people will...  politicsNews   \n",
       "\n",
       "                 date  \n",
       "0  December 31, 2017   \n",
       "1  December 29, 2017   "
      ]
     },
     "execution_count": 3,
     "metadata": {},
     "output_type": "execute_result"
    }
   ],
   "source": [
    "df_true.head(2)"
   ]
  },
  {
   "cell_type": "code",
   "execution_count": 4,
   "metadata": {},
   "outputs": [
    {
     "data": {
      "text/html": [
       "<div>\n",
       "<style scoped>\n",
       "    .dataframe tbody tr th:only-of-type {\n",
       "        vertical-align: middle;\n",
       "    }\n",
       "\n",
       "    .dataframe tbody tr th {\n",
       "        vertical-align: top;\n",
       "    }\n",
       "\n",
       "    .dataframe thead th {\n",
       "        text-align: right;\n",
       "    }\n",
       "</style>\n",
       "<table border=\"1\" class=\"dataframe\">\n",
       "  <thead>\n",
       "    <tr style=\"text-align: right;\">\n",
       "      <th></th>\n",
       "      <th>title</th>\n",
       "      <th>text</th>\n",
       "      <th>subject</th>\n",
       "      <th>date</th>\n",
       "    </tr>\n",
       "  </thead>\n",
       "  <tbody>\n",
       "    <tr>\n",
       "      <th>0</th>\n",
       "      <td>Donald Trump Sends Out Embarrassing New Year’...</td>\n",
       "      <td>Donald Trump just couldn t wish all Americans ...</td>\n",
       "      <td>News</td>\n",
       "      <td>December 31, 2017</td>\n",
       "    </tr>\n",
       "    <tr>\n",
       "      <th>1</th>\n",
       "      <td>Drunk Bragging Trump Staffer Started Russian ...</td>\n",
       "      <td>House Intelligence Committee Chairman Devin Nu...</td>\n",
       "      <td>News</td>\n",
       "      <td>December 31, 2017</td>\n",
       "    </tr>\n",
       "  </tbody>\n",
       "</table>\n",
       "</div>"
      ],
      "text/plain": [
       "                                               title  \\\n",
       "0   Donald Trump Sends Out Embarrassing New Year’...   \n",
       "1   Drunk Bragging Trump Staffer Started Russian ...   \n",
       "\n",
       "                                                text subject  \\\n",
       "0  Donald Trump just couldn t wish all Americans ...    News   \n",
       "1  House Intelligence Committee Chairman Devin Nu...    News   \n",
       "\n",
       "                date  \n",
       "0  December 31, 2017  \n",
       "1  December 31, 2017  "
      ]
     },
     "execution_count": 4,
     "metadata": {},
     "output_type": "execute_result"
    }
   ],
   "source": [
    "df_fake.head(2)"
   ]
  },
  {
   "cell_type": "code",
   "execution_count": 5,
   "metadata": {},
   "outputs": [],
   "source": [
    "# Assign label=1 to the true data and label=0 to fake data\n",
    "df_true['label']=1\n",
    "df_fake['label']=0"
   ]
  },
  {
   "cell_type": "code",
   "execution_count": 6,
   "metadata": {
    "scrolled": true
   },
   "outputs": [
    {
     "name": "stdout",
     "output_type": "stream",
     "text": [
      "(44898, 5)\n"
     ]
    }
   ],
   "source": [
    "# Concate two dataframes into one\n",
    "df=pd.concat([df_true,df_fake], axis=0, ignore_index=True)\n",
    "print(df.shape)"
   ]
  },
  {
   "cell_type": "code",
   "execution_count": 7,
   "metadata": {},
   "outputs": [
    {
     "data": {
      "text/html": [
       "<div>\n",
       "<style scoped>\n",
       "    .dataframe tbody tr th:only-of-type {\n",
       "        vertical-align: middle;\n",
       "    }\n",
       "\n",
       "    .dataframe tbody tr th {\n",
       "        vertical-align: top;\n",
       "    }\n",
       "\n",
       "    .dataframe thead th {\n",
       "        text-align: right;\n",
       "    }\n",
       "</style>\n",
       "<table border=\"1\" class=\"dataframe\">\n",
       "  <thead>\n",
       "    <tr style=\"text-align: right;\">\n",
       "      <th></th>\n",
       "      <th>title</th>\n",
       "      <th>text</th>\n",
       "      <th>subject</th>\n",
       "      <th>date</th>\n",
       "      <th>label</th>\n",
       "    </tr>\n",
       "  </thead>\n",
       "  <tbody>\n",
       "    <tr>\n",
       "      <th>7637</th>\n",
       "      <td>Kerry says has not been contacted by FBI over ...</td>\n",
       "      <td>AHERLOW, Ireland (Reuters) - U.S. Secretary of...</td>\n",
       "      <td>politicsNews</td>\n",
       "      <td>October 30, 2016</td>\n",
       "      <td>1</td>\n",
       "    </tr>\n",
       "    <tr>\n",
       "      <th>11526</th>\n",
       "      <td>Russia says 48,000 of its troops took part in ...</td>\n",
       "      <td>MOSCOW (Reuters) - A total of 48,000 of Russia...</td>\n",
       "      <td>worldnews</td>\n",
       "      <td>December 22, 2017</td>\n",
       "      <td>1</td>\n",
       "    </tr>\n",
       "    <tr>\n",
       "      <th>15976</th>\n",
       "      <td>South Korea's Moon says cannot recognize North...</td>\n",
       "      <td>SEOUL/BEIJING (Reuters) - South Korea will nev...</td>\n",
       "      <td>worldnews</td>\n",
       "      <td>November 1, 2017</td>\n",
       "      <td>1</td>\n",
       "    </tr>\n",
       "    <tr>\n",
       "      <th>39800</th>\n",
       "      <td>SMUG CNN ANCHORS Say They Won’t Release Identi...</td>\n",
       "      <td>The hosts of  New Day  dug a deeper hole for C...</td>\n",
       "      <td>left-news</td>\n",
       "      <td>Jul 5, 2017</td>\n",
       "      <td>0</td>\n",
       "    </tr>\n",
       "    <tr>\n",
       "      <th>10238</th>\n",
       "      <td>White House says has shared lists of political...</td>\n",
       "      <td>HAVANA (Reuters) - Cuba has political prisoner...</td>\n",
       "      <td>politicsNews</td>\n",
       "      <td>March 21, 2016</td>\n",
       "      <td>1</td>\n",
       "    </tr>\n",
       "  </tbody>\n",
       "</table>\n",
       "</div>"
      ],
      "text/plain": [
       "                                                   title  \\\n",
       "7637   Kerry says has not been contacted by FBI over ...   \n",
       "11526  Russia says 48,000 of its troops took part in ...   \n",
       "15976  South Korea's Moon says cannot recognize North...   \n",
       "39800  SMUG CNN ANCHORS Say They Won’t Release Identi...   \n",
       "10238  White House says has shared lists of political...   \n",
       "\n",
       "                                                    text       subject  \\\n",
       "7637   AHERLOW, Ireland (Reuters) - U.S. Secretary of...  politicsNews   \n",
       "11526  MOSCOW (Reuters) - A total of 48,000 of Russia...     worldnews   \n",
       "15976  SEOUL/BEIJING (Reuters) - South Korea will nev...     worldnews   \n",
       "39800  The hosts of  New Day  dug a deeper hole for C...     left-news   \n",
       "10238  HAVANA (Reuters) - Cuba has political prisoner...  politicsNews   \n",
       "\n",
       "                     date  label  \n",
       "7637    October 30, 2016       1  \n",
       "11526  December 22, 2017       1  \n",
       "15976   November 1, 2017       1  \n",
       "39800         Jul 5, 2017      0  \n",
       "10238     March 21, 2016       1  "
      ]
     },
     "execution_count": 7,
     "metadata": {},
     "output_type": "execute_result"
    }
   ],
   "source": [
    "df.sample(5)"
   ]
  },
  {
   "cell_type": "code",
   "execution_count": 8,
   "metadata": {},
   "outputs": [
    {
     "data": {
      "text/plain": [
       "title      0\n",
       "text       0\n",
       "subject    0\n",
       "date       0\n",
       "label      0\n",
       "dtype: int64"
      ]
     },
     "execution_count": 8,
     "metadata": {},
     "output_type": "execute_result"
    }
   ],
   "source": [
    "# check missing data\n",
    "df.isnull().sum()"
   ]
  },
  {
   "cell_type": "code",
   "execution_count": 9,
   "metadata": {},
   "outputs": [
    {
     "data": {
      "image/png": "[encoded data removed]",
      "text/plain": [
       "<Figure size 1296x504 with 2 Axes>"
      ]
     },
     "metadata": {
      "needs_background": "light"
     },
     "output_type": "display_data"
    }
   ],
   "source": [
    "fig, (ax1,ax2) = plt.subplots(1,2, figsize=(18,7))\n",
    "ax1=sns.countplot(x='subject', data=df[df.label==0],ax=ax1)\n",
    "ax1.set_title('Fake new counts by subject',fontsize=15)\n",
    "ax2=sns.countplot(x='subject', data=df[df.label==1],ax=ax2)\n",
    "ax2.set_title('True news counts by subject',fontsize=15)\n",
    "plt.show()"
   ]
  },
  {
   "cell_type": "code",
   "execution_count": 12,
   "metadata": {
    "scrolled": true
   },
   "outputs": [
    {
     "data": {
      "image/png": "[encoded data removed]",
      "text/plain": [
       "<Figure size 648x360 with 1 Axes>"
      ]
     },
     "metadata": {},
     "output_type": "display_data"
    }
   ],
   "source": [
    "sns.set(rc={'figure.figsize':(9,5)})\n",
    "ax=sns.countplot(x='label', data=df)\n",
    "ax.set_title('Fake/True news counts',fontsize=15)\n",
    "\n",
    "plt.show()"
   ]
  },
  {
   "cell_type": "markdown",
   "metadata": {},
   "source": [
    "#### Observations and Insights:\n",
    "\n",
    "1. Counts of real news and false news are close, the dataset is balanced.\n",
    "2. The real news and false news are naturally distingushed by their subjects. In this analysis, I discard this column to have more real-world simulation.\n",
    "3. Date column is not used as it is not relevant to our problem.\n"
   ]
  },
  {
   "cell_type": "markdown",
   "metadata": {
    "colab_type": "text",
    "id": "H2MbPnTSHYF1"
   },
   "source": [
    "### Part 2: Data Processing"
   ]
  },
  {
   "cell_type": "code",
   "execution_count": 21,
   "metadata": {},
   "outputs": [],
   "source": [
    "_CONTRACTION_MAP= {\"she'll\": 'she will', \"shouldn't've\": 'should not have', \"she'll've\": 'she will have', \"don't\": 'do not', \"should've\": 'should have', \"won't\": 'will not', \"who'll've\": 'who will have', \"he's\": 'he is', \"when's\": 'when is', \"we've\": 'we have', \"he'd\": 'he would', \"ma'am\": 'madam', \"y'all're\": 'you all are', \"he'd've\": 'he would have', \"how'd'y\": 'how do you', \"shan't've\": 'shall not have', \"haven't\": 'have not', \"who's\": 'who is', \"they'd\": 'they would', \"oughtn't\": 'ought not', \"I'd\": 'I would', \"you've\": 'you have', \"i'm\": 'i am', \"she'd've\": 'she would have', \"we'll\": 'we will', \"mayn't\": 'may not', \"they've\": 'they have', \"mustn't've\": 'must not have', \"could've\": 'could have', \"what've\": 'what have', \"mustn't\": 'must not', \"isn't\": 'is not', \"that'd've\": 'that would have', \"i'll\": 'i will', \"why's\": 'why is', \"you'd\": 'you would', \"couldn't've\": 'could not have', \"they'll've\": 'they will have', \"we'd\": 'we would', \"y'all'd\": 'you all would', \"he'll've\": 'he he will have', \"shan't\": 'shall not', \"y'all'd've\": 'you all would have', \"there'd\": 'there would', \"needn't\": 'need not', \"where'd\": 'where did', \"hadn't've\": 'had not have', \"wouldn't've\": 'would not have', \"there's\": 'there is', \"shouldn't\": 'should not', \"they'll\": 'they will', \"needn't've\": 'need not have', \"mightn't\": 'might not', \"you're\": 'you are', \"so've\": 'so have', \"what'll\": 'what will', \"mightn't've\": 'might not have', \"hadn't\": 'had not', \"aren't\": 'are not', \"where's\": 'where is', \"i'll've\": 'i will have', \"wouldn't\": 'would not', \"i'd\": 'i would', \"weren't\": 'were not', \"would've\": 'would have', \"i'm\": 'i am', \"it'll\": 'it will', \"we'd've\": 'we would have', \"can't\": 'cannot', \"y'all\": 'you all', \"couldn't\": 'could not', \"how'll\": 'how will', \"doesn't\": 'does not', \"when've\": 'when have', \"how's\": 'how is', \"i've\": 'i have', \"it's\": 'it is', \"y'all've\": 'you all have', \"how'd\": 'how did', \"we're\": 'we are', \"i'd've\": 'i would have', \"it'd\": 'it would', \"what're\": 'what are', \"i've\": 'i have', \"oughtn't've\": 'ought not have', \"what's\": 'what is', \"ain't\": 'is not', \"who'll\": 'who will', \"i'd've\": 'i would have', \"must've\": 'must have', \"i'll\": 'i will', \"they're\": 'they are', \"you'd've\": 'you would have', \"wasn't\": 'was not', \"it'll've\": 'it will have', \"hasn't\": 'has not', \"won't've\": 'will not have', \"so's\": 'so as', \"you'll've\": 'you will have', \"there'd've\": 'there would have', \"i'll've\": 'i will have', \"didn't\": 'did not', \"where've\": 'where have', \"they'd've\": 'they would have', \"why've\": 'why have', \"it'd've\": 'it would have', \"who've\": 'who have', \"sha'n't\": 'shall not', \"to've\": 'to have', \"o'clock\": 'of the clock', \"let's\": 'let us', \"what'll've\": 'what will have', \"'cause\": 'because', \"might've\": 'might have', \"he'll\": 'he will', \"that'd\": 'that would', \"we'll've\": 'we will have', \"she'd\": 'she would', \"can't've\": 'cannot have', \"you'll\": 'you will', \"will've\": 'will have', \"she's\": 'she is', \"that's\": 'that is'}\n",
    "\n",
    "english_stopwords = stopwords.words('english')\n",
    "noise_words = ['http', 'https', 'amp', 'quot']  # to be added if necessary\n",
    "_STOPWORDS = english_stopwords + noise_words\n",
    "\n",
    "random_seed = 2021\n",
    "\n",
    "def text_process(text):\n",
    "    pattern = re.compile(\"({})\".format(\"|\".join(_CONTRACTION_MAP.keys())),flags = re.DOTALL| re.IGNORECASE)\n",
    "    \n",
    "    def replace_text(t):\n",
    "        txt = t.group(0)\n",
    "        if txt.lower() in _CONTRACTION_MAP.keys():\n",
    "            return _CONTRACTION_MAP[txt.lower()]\n",
    "    \n",
    "    # Expand contraction\n",
    "    text = pattern.sub(replace_text,text)\n",
    "    # Remove numbers\n",
    "    text = re.sub(r'\\d+', '', text)\n",
    "    # Remove punctuations\n",
    "    text = re.sub(r'[^\\s\\w]', '', text).lower().strip()\n",
    "    # Remove stopwords\n",
    "    words = nltk.word_tokenize(text)\n",
    "    stopwords_removed= [w for w in words if w not in _STOPWORDS]\n",
    "    \n",
    "    return \" \".join(stopwords_removed)"
   ]
  },
  {
   "cell_type": "code",
   "execution_count": 22,
   "metadata": {},
   "outputs": [
    {
     "name": "stdout",
     "output_type": "stream",
     "text": [
      "4min 34s ± 7.87 s per loop (mean ± std. dev. of 7 runs, 1 loop each)\n"
     ]
    }
   ],
   "source": [
    "%%timeit\n",
    "df['title']=df['title'].apply(text_process)\n",
    "df['text']=df['text'].apply(text_process)"
   ]
  },
  {
   "cell_type": "code",
   "execution_count": 23,
   "metadata": {},
   "outputs": [
    {
     "name": "stdout",
     "output_type": "stream",
     "text": [
      "X_train shape: (38163, 2), y_train shape: (38163,)\n",
      "X_test shape (6735, 2), y_test shape (6735,)\n"
     ]
    }
   ],
   "source": [
    "X_train, X_test, y_train, y_test = train_test_split(df[['title','text']], df.label, test_size=0.15, stratify=df.label, random_state=random_seed)\n",
    "\n",
    "print(f'X_train shape: {X_train.shape}, y_train shape: {y_train.shape}')      \n",
    "print(f'X_test shape {X_test.shape}, y_test shape {y_test.shape}') "
   ]
  },
  {
   "cell_type": "code",
   "execution_count": 74,
   "metadata": {},
   "outputs": [],
   "source": [
    "def train_classifier(classifier, X_train, y_train, X_test, y_test):\n",
    "    name = classifier.__class__.__name__\n",
    "    classifier.fit(X_train, y_train)\n",
    "    y_pred = classifier.predict(X_test)\n",
    "    accuracy = accuracy_score(y_test, y_pred)\n",
    "    f1 = f1_score(y_test, y_pred)\n",
    "    \n",
    "    print(f\"The accuracy score of the classifier {name} is {accuracy};\\nthe F1 score of the classifier {name} is {f1}\")"
   ]
  },
  {
   "cell_type": "code",
   "execution_count": 253,
   "metadata": {
    "colab": {},
    "colab_type": "code",
    "id": "ah0saAlZHYGK"
   },
   "outputs": [],
   "source": [
    "# Process texts as count vectors for base models\n",
    "# Filter out the most frequent 20% tokens and the least frequent 10% tokens.\n",
    "count_vect = CountVectorizer(max_df=0.8, min_df=0.1)\n",
    "count_vect.fit(X_train.text)\n",
    "\n",
    "X_train_cv = count_vect.transform(X_train.text)\n",
    "X_test_cv = count_vect.transform(X_test.text)"
   ]
  },
  {
   "cell_type": "code",
   "execution_count": 252,
   "metadata": {},
   "outputs": [],
   "source": [
    "# TFIDF Vectorizer\n",
    "# Filter out the most frequent 20% tokens and the least frequent 10% tokens.\n",
    "tfidf_vect = TfidfVectorizer(max_df=0.8, min_df=0.1)\n",
    "tfidf_vect.fit(X_train.text)\n",
    "\n",
    "X_train_tv=tfidf_vect.transform(X_train.text)\n",
    "X_test_tv = tfidf_vect.transform(X_test.text)"
   ]
  },
  {
   "cell_type": "markdown",
   "metadata": {
    "colab_type": "text",
    "id": "clXu3pdoHYHo"
   },
   "source": [
    "### Part 3: Logistic Regression Model"
   ]
  },
  {
   "cell_type": "code",
   "execution_count": 254,
   "metadata": {
    "colab": {},
    "colab_type": "code",
    "id": "fkU5JwJ8HYHq"
   },
   "outputs": [
    {
     "name": "stdout",
     "output_type": "stream",
     "text": [
      "The accuracy score of the classifier LogisticRegression is 0.9921306607275426;\n",
      "the F1 score of the classifier LogisticRegression is 0.9917714640583761\n"
     ]
    }
   ],
   "source": [
    "logreg = LogisticRegression(solver='lbfgs', random_state=random_seed, max_iter=500, n_jobs=-1)\n",
    "\n",
    "train_classifier(logreg, X_train_cv, y_train, X_test_cv, y_test)"
   ]
  },
  {
   "cell_type": "code",
   "execution_count": 255,
   "metadata": {
    "colab": {},
    "colab_type": "code",
    "id": "cQ_0BRPFHYHs"
   },
   "outputs": [
    {
     "name": "stdout",
     "output_type": "stream",
     "text": [
      "The accuracy score of the classifier LogisticRegression is 0.9848552338530067;\n",
      "the F1 score of the classifier LogisticRegression is 0.9841467205470935\n"
     ]
    }
   ],
   "source": [
    "train_classifier(logreg, X_train_tv, y_train, X_test_tv, y_test)"
   ]
  },
  {
   "cell_type": "markdown",
   "metadata": {},
   "source": [
    "### Part 4: LGBM Model"
   ]
  },
  {
   "cell_type": "code",
   "execution_count": 256,
   "metadata": {},
   "outputs": [
    {
     "name": "stdout",
     "output_type": "stream",
     "text": [
      "The accuracy score of the classifier LGBMClassifier is 0.9964365256124722;\n",
      "the F1 score of the classifier LGBMClassifier is 0.996268656716418\n"
     ]
    }
   ],
   "source": [
    "lgbm = LGBMClassifier(n_jobs=-1, random_state=random_seed)\n",
    "\n",
    "train_classifier(lgbm, X_train_tv.toarray(), y_train, X_test_tv.toarray(), y_test)"
   ]
  },
  {
   "cell_type": "code",
   "execution_count": 257,
   "metadata": {},
   "outputs": [
    {
     "name": "stdout",
     "output_type": "stream",
     "text": [
      "The accuracy score of the classifier LGBMClassifier is 0.9965850037119525;\n",
      "the F1 score of the classifier LGBMClassifier is 0.996423573316747\n"
     ]
    }
   ],
   "source": [
    "train_classifier(lgbm, X_train_cv.toarray(), y_train, X_test_cv.toarray(), y_test)"
   ]
  },
  {
   "cell_type": "markdown",
   "metadata": {},
   "source": [
    "###  Observations and Insights:\n",
    "1. Count Vectorizer generally perform better than TFIDF vectorizer in this task.\n",
    "2. To reduce the corpus size in the training, only the top 1000 features are taken for training, it shows the scores are slightly lower than full features, but saves lots of computing time."
   ]
  },
  {
   "cell_type": "markdown",
   "metadata": {},
   "source": [
    "### Part 5: Deep Learning Model"
   ]
  },
  {
   "cell_type": "code",
   "execution_count": 113,
   "metadata": {},
   "outputs": [],
   "source": [
    "from tensorflow.keras.preprocessing.text import Tokenizer\n",
    "from tensorflow.keras.preprocessing.sequence import pad_sequences\n",
    "from tensorflow.keras import Input, Sequential, Model\n",
    "from tensorflow.keras.layers import Dense, Embedding, LSTM, SpatialDropout1D, Bidirectional, MaxPooling1D\n",
    "from tensorflow.keras.callbacks import EarlyStopping\n",
    "from tensorflow.keras.layers import Dropout"
   ]
  },
  {
   "cell_type": "code",
   "execution_count": 243,
   "metadata": {},
   "outputs": [
    {
     "name": "stdout",
     "output_type": "stream",
     "text": [
      "Found 183922 unique tokens.\n"
     ]
    }
   ],
   "source": [
    "# The maximum number of words to be used. (most frequent)\n",
    "MAX_NB_WORDS = 5000\n",
    "# Max number of words in each news.\n",
    "MAX_SEQUENCE_LENGTH = 250\n",
    "# Fixed embedding dimension.\n",
    "EMBEDDING_DIM = 100\n",
    "\n",
    "tokenizer = Tokenizer(num_words=MAX_NB_WORDS)\n",
    "tokenizer.fit_on_texts(X_train.text)\n",
    "word_index = tokenizer.word_index\n",
    "print('Found %s unique tokens.' % len(word_index))"
   ]
  },
  {
   "cell_type": "code",
   "execution_count": 245,
   "metadata": {},
   "outputs": [
    {
     "name": "stdout",
     "output_type": "stream",
     "text": [
      "The shape of data tensor: (38163, 250)\n",
      "The shape of label tensor: (38163,)\n"
     ]
    }
   ],
   "source": [
    "train_sequences = tokenizer.texts_to_sequences(X_train.text)\n",
    "train_X = pad_sequences(train_sequences, maxlen=MAX_SEQUENCE_LENGTH, padding='post', truncating='post')\n",
    "\n",
    "print(f\"The shape of data tensor: {train_X.shape}\")\n",
    "print(f\"The shape of label tensor: {y_train.shape}\")"
   ]
  },
  {
   "cell_type": "code",
   "execution_count": 248,
   "metadata": {},
   "outputs": [
    {
     "name": "stdout",
     "output_type": "stream",
     "text": [
      "The shape of data tensor: (6735, 250)\n",
      "The shape of label tensor: (6735,)\n"
     ]
    }
   ],
   "source": [
    "test_sequences = tokenizer.texts_to_sequences(X_test.text)\n",
    "test_X = pad_sequences(test_sequences, maxlen=MAX_SEQUENCE_LENGTH, padding='post', truncating='post')\n",
    "\n",
    "print(f\"The shape of data tensor: {test_X.shape}\")\n",
    "print(f\"The shape of label tensor: {y_test.shape}\")"
   ]
  },
  {
   "cell_type": "code",
   "execution_count": 246,
   "metadata": {},
   "outputs": [],
   "source": [
    "# Build a bidrectional LSTM model with dropout.\n",
    "input_text = Input(shape=[MAX_SEQUENCE_LENGTH,], dtype='int32')\n",
    "embedding_layer = Embedding(MAX_NB_WORDS, EMBEDDING_DIM, input_length=MAX_SEQUENCE_LENGTH)(input_text)\n",
    "text_embed = SpatialDropout1D(0.2)(embedding_layer)\n",
    "hidden = Bidirectional(LSTM(100, dropout=0.2, recurrent_dropout=0.2))(text_embed)\n",
    "dense = Dense(256, activation='relu')(hidden)\n",
    "output = Dense(1, activation='sigmoid')(dense)\n",
    "model = Model([input_text], [output])"
   ]
  },
  {
   "cell_type": "code",
   "execution_count": 247,
   "metadata": {},
   "outputs": [
    {
     "name": "stdout",
     "output_type": "stream",
     "text": [
      "Epoch 1/5\n",
      "478/478 [==============================] - 1296s 3s/step - loss: 0.0400 - accuracy: 0.9854 - val_loss: 0.0079 - val_accuracy: 0.9986\n",
      "Epoch 2/5\n",
      "478/478 [==============================] - 1298s 3s/step - loss: 0.0030 - accuracy: 0.9993 - val_loss: 0.0062 - val_accuracy: 0.9988\n",
      "Epoch 3/5\n",
      "478/478 [==============================] - 1297s 3s/step - loss: 0.0010 - accuracy: 0.9998 - val_loss: 0.0064 - val_accuracy: 0.9991\n",
      "Epoch 4/5\n",
      "478/478 [==============================] - 1310s 3s/step - loss: 0.0017 - accuracy: 0.9996 - val_loss: 0.0089 - val_accuracy: 0.9980\n",
      "Epoch 5/5\n",
      "478/478 [==============================] - 1306s 3s/step - loss: 0.0011 - accuracy: 0.9998 - val_loss: 0.0109 - val_accuracy: 0.9976\n"
     ]
    }
   ],
   "source": [
    "epochs = 5\n",
    "batch_size = 64\n",
    "model.compile(loss='binary_crossentropy', optimizer='adam', metrics=['accuracy'])\n",
    "history = model.fit(train_X, y_train, \n",
    "                    epochs=epochs, \n",
    "                    batch_size=batch_size,\n",
    "                    validation_split=0.2,\n",
    "                    callbacks=[EarlyStopping(monitor='val_loss', \n",
    "                    patience=3, min_delta=0.0001)])"
   ]
  },
  {
   "cell_type": "code",
   "execution_count": 251,
   "metadata": {},
   "outputs": [
    {
     "name": "stdout",
     "output_type": "stream",
     "text": [
      "106/106 [==============================] - 11s 108ms/step - loss: 0.0073 - accuracy: 0.9984\n",
      "The accuracy score of the classifier BiLSTM is 0.9983667135238647;\n",
      "the F1 score of the classifier BiLSTM is 0.9982863374357376\n"
     ]
    }
   ],
   "source": [
    "_, lstm_accuracy = model.evaluate(test_X, y_test, batch_size=batch_size)\n",
    "lstm_prob = model.predict(test_X)\n",
    "lstm_pred=[0 if x<0.5 else 1 for x in list(lstm_prob.reshape(-1))]\n",
    "lstm_f1 = f1_score(y_test, lstm_pred)\n",
    "\n",
    "print(f\"The accuracy score of the classifier BiLSTM is {lstm_accuracy};\\nthe F1 score of the classifier BiLSTM is {lstm_f1}\")"
   ]
  },
  {
   "cell_type": "markdown",
   "metadata": {},
   "source": [
    "### Part 6: Summary"
   ]
  },
  {
   "cell_type": "markdown",
   "metadata": {},
   "source": [
    "$$A: Text Precessing$$\n",
    "    In this dataset, both title and text can be used as training input for classification, here I choose text column as input, while title column as training features can also predict reasonably well.\n",
    "    The texts are pre-processed before any further vectorization, below steps are performed:\n",
    "    <ul>\n",
    "    <li>remove built-in and customised stopwords</li>\n",
    "    <li>remove punctuations</li>\n",
    "    <li>remove numbers</li>\n",
    "    <li>expand contractions</li>\n",
    "    <li>tokenize</li>\n",
    "    </ul>\n",
    "    \n",
    "$$B: Token Vectorizer$$\n",
    "    In Logistic Regression and LGBM, texts are first vectorized with either count vectorizer or TFIDF vectorizer, in this particular case, count vectorizer appears to be better. To reduce the corpus size, the most frequent words that appear in more than 80% of documents and the least frequent words that appear in less than 10% of the documents are ignored. By ignoring the less contributing words, the computing time is optimized.    \n",
    "    In deep learning, texts are vectorized with word embeddings.\n",
    "\n",
    "$$C: Model Insights:$$\n",
    "\n",
    "In this study, 3 binary classification models are built to detect the fake news from the true news. The 3 different types of models are:\n",
    "1. Logistic Regression Model\n",
    "\n",
    "    Logistic regression model as a basic classfication algorithm noramlly behave quite well in classic binary classifcation problems. \n",
    "    \n",
    "    \n",
    "2. Light gradient boosting Model (LGBM)\n",
    "\n",
    "    LGBM as a light version gradient boosting model, allows for comprehensive parameters tunning at reasonable computing costs, it normally perform well in binary classification. In this particular case, model tunning is not performed but the predicted results are good.\n",
    "    \n",
    "    \n",
    "3. Deep Learning Bidrectional LSTM Model\n",
    "\n",
    "    As the state-of-art technology, deep learning models are robust in solving NLP problem. In this exercise, I first embedded the words tokens into embedding vectors, and feed into a bidirectional LSTM model.The model had not gone through further tunning and layer adding, due to the limitation of computing resources, it only takes maximum 5000 words with sequence of words truncated at 250, though its performance is already the best among 3 models, it can be further improved in more complicated problems.\n",
    "    \n",
    "    Among the three models, logistic regression is always good to be a benchmark base model which can normally produce a good binary classification at low cost. LGBM provides tunning flexiblity that can normally stretch the model performance to its best among machine learning algorithms at a fast speed. In these models, predictions are done based on word counts or frequency.  However, in particular to NLP tasks, the deep learning model is normally a superior choice, as it can consider the semantic and syntactic effects and the textual similarity when dealing with the word tokens. It is the state-of-art technology that is robust in solving NLP problems.\n"
   ]
  }
 ],
 "metadata": {
  "colab": {
   "name": "03 Working with Text Data.ipynb",
   "provenance": []
  },
  "kernelspec": {
   "display_name": "Python 3",
   "language": "python",
   "name": "python3"
  },
  "language_info": {
   "codemirror_mode": {
    "name": "ipython",
    "version": 3
   },
   "file_extension": ".py",
   "mimetype": "text/x-python",
   "name": "python",
   "nbconvert_exporter": "python",
   "pygments_lexer": "ipython3",
   "version": "3.7.7"
  }
 },
 "nbformat": 4,
 "nbformat_minor": 4
}
